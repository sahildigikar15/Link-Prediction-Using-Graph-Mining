{
 "cells": [
  {
   "cell_type": "markdown",
   "metadata": {
    "colab_type": "text",
    "id": "naWvqMEMHglO"
   },
   "source": [
    "<p style=\"font-size:32px;text-align:center\"> <b>Social network Graph Link Prediction - Facebook Challenge</b> </p>"
   ]
  },
  {
   "cell_type": "code",
   "execution_count": 13,
   "metadata": {
    "colab": {
     "base_uri": "https://localhost:8080/",
     "height": 34
    },
    "colab_type": "code",
    "id": "a3y_Ww4ngbAA",
    "outputId": "5ce8532a-e946-4e9d-dd09-36577e6d5a77"
   },
   "outputs": [
    {
     "name": "stdout",
     "output_type": "stream",
     "text": [
      "Mounted at /content/drive\n"
     ]
    }
   ],
   "source": [
    "from google.colab import drive\n",
    "drive.mount('/content/drive')"
   ]
  },
  {
   "cell_type": "code",
   "execution_count": 0,
   "metadata": {
    "colab": {},
    "colab_type": "code",
    "id": "9wb9N5RzHglP"
   },
   "outputs": [],
   "source": [
    "#Importing Libraries\n",
    "# please do go through this python notebook: \n",
    "import warnings\n",
    "warnings.filterwarnings(\"ignore\")\n",
    "\n",
    "import csv\n",
    "import pandas as pd#pandas to create small dataframes \n",
    "import datetime #Convert to unix time\n",
    "import time #Convert to unix time\n",
    "# if numpy is not installed already : pip3 install numpy\n",
    "import numpy as np#Do aritmetic operations on arrays\n",
    "# matplotlib: used to plot graphs\n",
    "import matplotlib\n",
    "import matplotlib.pylab as plt\n",
    "import seaborn as sns#Plots\n",
    "from matplotlib import rcParams#Size of plots  \n",
    "from sklearn.cluster import MiniBatchKMeans, KMeans#Clustering\n",
    "import math\n",
    "import pickle\n",
    "import os\n",
    "# to install xgboost: pip3 install xgboost\n",
    "import xgboost as xgb\n",
    "\n",
    "import warnings\n",
    "import networkx as nx\n",
    "import pdb\n",
    "import pickle\n",
    "from pandas import HDFStore,DataFrame\n",
    "from pandas import read_hdf\n",
    "from scipy.sparse.linalg import svds, eigs\n",
    "import gc\n",
    "from tqdm import tqdm\n",
    "from sklearn.ensemble import RandomForestClassifier\n",
    "from sklearn.metrics import f1_score"
   ]
  },
  {
   "cell_type": "code",
   "execution_count": 0,
   "metadata": {
    "colab": {},
    "colab_type": "code",
    "id": "XC4OJFKkHglU"
   },
   "outputs": [],
   "source": [
    "#reading\n",
    "from pandas import read_hdf\n",
    "df_final_train = read_hdf('drive/My Drive/data/fea_sample/storage_sample_stage4.h5', 'train_df',mode='r')\n",
    "df_final_test = read_hdf('drive/My Drive/data/fea_sample/storage_sample_stage4.h5', 'test_df',mode='r')"
   ]
  },
  {
   "cell_type": "code",
   "execution_count": 4,
   "metadata": {
    "colab": {
     "base_uri": "https://localhost:8080/",
     "height": 235
    },
    "colab_type": "code",
    "id": "5Gm-BHRkHglW",
    "outputId": "2b578101-1aef-4fd8-c9b3-f89f3bf12fc8"
   },
   "outputs": [
    {
     "data": {
      "text/plain": [
       "Index(['source_node', 'destination_node', 'indicator_link',\n",
       "       'jaccard_followers', 'jaccard_followees', 'cosine_followers',\n",
       "       'cosine_followees', 'num_followers_s', 'num_followees_s',\n",
       "       'num_followees_d', 'inter_followers', 'inter_followees', 'adar_index',\n",
       "       'follows_back', 'same_comp', 'shortest_path', 'weight_in', 'weight_out',\n",
       "       'weight_f1', 'weight_f2', 'weight_f3', 'weight_f4', 'page_rank_s',\n",
       "       'page_rank_d', 'katz_s', 'katz_d', 'hubs_s', 'hubs_d', 'authorities_s',\n",
       "       'authorities_d', 'svd_u_s_1', 'svd_u_s_2', 'svd_u_s_3', 'svd_u_s_4',\n",
       "       'svd_u_s_5', 'svd_u_s_6', 'svd_u_d_1', 'svd_u_d_2', 'svd_u_d_3',\n",
       "       'svd_u_d_4', 'svd_u_d_5', 'svd_u_d_6', 'svd_v_s_1', 'svd_v_s_2',\n",
       "       'svd_v_s_3', 'svd_v_s_4', 'svd_v_s_5', 'svd_v_s_6', 'svd_v_d_1',\n",
       "       'svd_v_d_2', 'svd_v_d_3', 'svd_v_d_4', 'svd_v_d_5', 'svd_v_d_6'],\n",
       "      dtype='object')"
      ]
     },
     "execution_count": 4,
     "metadata": {
      "tags": []
     },
     "output_type": "execute_result"
    }
   ],
   "source": [
    "df_final_train.columns"
   ]
  },
  {
   "cell_type": "code",
   "execution_count": 0,
   "metadata": {
    "colab": {},
    "colab_type": "code",
    "id": "XRW7VZ4AHglc"
   },
   "outputs": [],
   "source": [
    "y_train = df_final_train.indicator_link\n",
    "y_test = df_final_test.indicator_link"
   ]
  },
  {
   "cell_type": "code",
   "execution_count": 0,
   "metadata": {
    "colab": {},
    "colab_type": "code",
    "id": "4lj9M_qtHglf"
   },
   "outputs": [],
   "source": [
    "df_final_train.drop(['source_node', 'destination_node','indicator_link'],axis=1,inplace=True)\n",
    "df_final_test.drop(['source_node', 'destination_node','indicator_link'],axis=1,inplace=True)"
   ]
  },
  {
   "cell_type": "code",
   "execution_count": 7,
   "metadata": {
    "colab": {
     "base_uri": "https://localhost:8080/",
     "height": 396
    },
    "colab_type": "code",
    "id": "lIEc91uVHgli",
    "outputId": "e3960ab9-b0dd-4afd-f202-f4ffb33dbf2f"
   },
   "outputs": [
    {
     "name": "stdout",
     "output_type": "stream",
     "text": [
      "Estimators =  10 Train Score 0.9063252121775113 test Score 0.8745605278006858\n",
      "Estimators =  50 Train Score 0.9205725512208812 test Score 0.9125653355634538\n",
      "Estimators =  100 Train Score 0.9238690848446947 test Score 0.9141199714153599\n",
      "Estimators =  250 Train Score 0.9239789348046863 test Score 0.9188007232664732\n",
      "Estimators =  450 Train Score 0.9237190618658074 test Score 0.9161507685828595\n"
     ]
    },
    {
     "data": {
      "text/plain": [
       "Text(0.5, 1.0, 'Estimators vs score at depth of 5')"
      ]
     },
     "execution_count": 7,
     "metadata": {
      "tags": []
     },
     "output_type": "execute_result"
    },
    {
     "data": {
      "image/png": "[encoded data removed]",
      "text/plain": [
       "<Figure size 432x288 with 1 Axes>"
      ]
     },
     "metadata": {
      "tags": []
     },
     "output_type": "display_data"
    }
   ],
   "source": [
    "estimators = [10,50,100,250,450]\n",
    "train_scores = []\n",
    "test_scores = []\n",
    "for i in estimators:\n",
    "    clf = RandomForestClassifier(bootstrap=True, class_weight=None, criterion='gini',\n",
    "            max_depth=5, max_features='auto', max_leaf_nodes=None,\n",
    "            min_impurity_decrease=0.0, min_impurity_split=None,\n",
    "            min_samples_leaf=52, min_samples_split=120,\n",
    "            min_weight_fraction_leaf=0.0, n_estimators=i, n_jobs=-1,random_state=25,verbose=0,warm_start=False)\n",
    "    clf.fit(df_final_train,y_train)\n",
    "    train_sc = f1_score(y_train,clf.predict(df_final_train))\n",
    "    test_sc = f1_score(y_test,clf.predict(df_final_test))\n",
    "    test_scores.append(test_sc)\n",
    "    train_scores.append(train_sc)\n",
    "    print('Estimators = ',i,'Train Score',train_sc,'test Score',test_sc)\n",
    "plt.plot(estimators,train_scores,label='Train Score')\n",
    "plt.plot(estimators,test_scores,label='Test Score')\n",
    "plt.xlabel('Estimators')\n",
    "plt.ylabel('Score')\n",
    "plt.title('Estimators vs score at depth of 5')"
   ]
  },
  {
   "cell_type": "code",
   "execution_count": 0,
   "metadata": {
    "colab": {},
    "colab_type": "code",
    "id": "nZxhrTdQHglm",
    "outputId": "53382b8e-148d-4c22-8066-d9807fb27012"
   },
   "outputs": [
    {
     "name": "stdout",
     "output_type": "stream",
     "text": [
      "depth =  3 Train Score 0.8916120853581238 test Score 0.8687934859875491\n",
      "depth =  9 Train Score 0.9572226298198419 test Score 0.9222953031452904\n",
      "depth =  11 Train Score 0.9623451340902863 test Score 0.9252318758281279\n",
      "depth =  15 Train Score 0.9634267621927706 test Score 0.9231288356496615\n",
      "depth =  20 Train Score 0.9631629153051491 test Score 0.9235051024711141\n",
      "depth =  35 Train Score 0.9634333127085721 test Score 0.9235601652753184\n",
      "depth =  50 Train Score 0.9634333127085721 test Score 0.9235601652753184\n",
      "depth =  70 Train Score 0.9634333127085721 test Score 0.9235601652753184\n",
      "depth =  130 Train Score 0.9634333127085721 test Score 0.9235601652753184\n"
     ]
    },
    {
     "data": {
      "image/png": "[encoded data removed]",
      "text/plain": [
       "<Figure size 432x288 with 1 Axes>"
      ]
     },
     "metadata": {
      "tags": []
     },
     "output_type": "display_data"
    }
   ],
   "source": [
    "depths = [3,9,11,15,20,35,50,70,130]\n",
    "train_scores = []\n",
    "test_scores = []\n",
    "for i in depths:\n",
    "    clf = RandomForestClassifier(bootstrap=True, class_weight=None, criterion='gini',\n",
    "            max_depth=i, max_features='auto', max_leaf_nodes=None,\n",
    "            min_impurity_decrease=0.0, min_impurity_split=None,\n",
    "            min_samples_leaf=52, min_samples_split=120,\n",
    "            min_weight_fraction_leaf=0.0, n_estimators=115, n_jobs=-1,random_state=25,verbose=0,warm_start=False)\n",
    "    clf.fit(df_final_train,y_train)\n",
    "    train_sc = f1_score(y_train,clf.predict(df_final_train))\n",
    "    test_sc = f1_score(y_test,clf.predict(df_final_test))\n",
    "    test_scores.append(test_sc)\n",
    "    train_scores.append(train_sc)\n",
    "    print('depth = ',i,'Train Score',train_sc,'test Score',test_sc)\n",
    "plt.plot(depths,train_scores,label='Train Score')\n",
    "plt.plot(depths,test_scores,label='Test Score')\n",
    "plt.xlabel('Depth')\n",
    "plt.ylabel('Score')\n",
    "plt.title('Depth vs score at depth of 5 at estimators = 115')\n",
    "plt.show()"
   ]
  },
  {
   "cell_type": "code",
   "execution_count": 0,
   "metadata": {
    "colab": {},
    "colab_type": "code",
    "id": "MrG1Lfl3Hglq",
    "outputId": "7b6e3c97-8d66-455d-cd79-213f824719cc"
   },
   "outputs": [
    {
     "name": "stdout",
     "output_type": "stream",
     "text": [
      "mean test scores [0.96225043 0.96215493 0.96057081 0.96194015 0.96330005]\n",
      "mean train scores [0.96294922 0.96266735 0.96115674 0.96263457 0.96430539]\n"
     ]
    }
   ],
   "source": [
    "from sklearn.metrics import f1_score\n",
    "from sklearn.ensemble import RandomForestClassifier\n",
    "from sklearn.metrics import f1_score\n",
    "from sklearn.model_selection import RandomizedSearchCV\n",
    "from scipy.stats import randint as sp_randint\n",
    "from scipy.stats import uniform\n",
    "\n",
    "param_dist = {\"n_estimators\":sp_randint(105,125),\n",
    "              \"max_depth\": sp_randint(10,15),\n",
    "              \"min_samples_split\": sp_randint(110,190),\n",
    "              \"min_samples_leaf\": sp_randint(25,65)}\n",
    "\n",
    "clf = RandomForestClassifier(random_state=25,n_jobs=-1)\n",
    "\n",
    "rf_random = RandomizedSearchCV(clf, param_distributions=param_dist,\n",
    "                                   n_iter=5,cv=10,scoring='f1',random_state=25)\n",
    "\n",
    "rf_random.fit(df_final_train,y_train)\n",
    "print('mean test scores',rf_random.cv_results_['mean_test_score'])\n",
    "print('mean train scores',rf_random.cv_results_['mean_train_score'])"
   ]
  },
  {
   "cell_type": "code",
   "execution_count": 0,
   "metadata": {
    "colab": {},
    "colab_type": "code",
    "id": "hme3j_diHglu",
    "outputId": "581ccc02-7770-4a94-d003-257af4e81570"
   },
   "outputs": [
    {
     "name": "stdout",
     "output_type": "stream",
     "text": [
      "RandomForestClassifier(bootstrap=True, class_weight=None, criterion='gini',\n",
      "            max_depth=14, max_features='auto', max_leaf_nodes=None,\n",
      "            min_impurity_decrease=0.0, min_impurity_split=None,\n",
      "            min_samples_leaf=28, min_samples_split=111,\n",
      "            min_weight_fraction_leaf=0.0, n_estimators=121, n_jobs=-1,\n",
      "            oob_score=False, random_state=25, verbose=0, warm_start=False)\n"
     ]
    }
   ],
   "source": [
    "print(rf_random.best_estimator_)"
   ]
  },
  {
   "cell_type": "code",
   "execution_count": 0,
   "metadata": {
    "colab": {},
    "colab_type": "code",
    "id": "qu4KIEweHglx"
   },
   "outputs": [],
   "source": [
    "clf = RandomForestClassifier(bootstrap=True, class_weight=None, criterion='gini',\n",
    "            max_depth=14, max_features='auto', max_leaf_nodes=None,\n",
    "            min_impurity_decrease=0.0, min_impurity_split=None,\n",
    "            min_samples_leaf=28, min_samples_split=111,\n",
    "            min_weight_fraction_leaf=0.0, n_estimators=121, n_jobs=-1,\n",
    "            oob_score=False, random_state=25, verbose=0, warm_start=False)"
   ]
  },
  {
   "cell_type": "code",
   "execution_count": 0,
   "metadata": {
    "colab": {},
    "colab_type": "code",
    "id": "Dax83GfLHgl1"
   },
   "outputs": [],
   "source": [
    "clf.fit(df_final_train,y_train)\n",
    "y_train_pred = clf.predict(df_final_train)\n",
    "y_test_pred = clf.predict(df_final_test)"
   ]
  },
  {
   "cell_type": "code",
   "execution_count": 0,
   "metadata": {
    "colab": {},
    "colab_type": "code",
    "id": "PTtAp1iTHgl4",
    "outputId": "e2e3d725-3c4d-4374-d303-8f294b570977"
   },
   "outputs": [
    {
     "name": "stdout",
     "output_type": "stream",
     "text": [
      "Train f1 score 0.9652533106548414\n",
      "Test f1 score 0.9241678239279553\n"
     ]
    }
   ],
   "source": [
    "from sklearn.metrics import f1_score\n",
    "print('Train f1 score',f1_score(y_train,y_train_pred))\n",
    "print('Test f1 score',f1_score(y_test,y_test_pred))"
   ]
  },
  {
   "cell_type": "code",
   "execution_count": 0,
   "metadata": {
    "colab": {},
    "colab_type": "code",
    "id": "5XfUkZYQHgl7"
   },
   "outputs": [],
   "source": [
    "from sklearn.metrics import confusion_matrix\n",
    "def plot_confusion_matrix(test_y, predict_y):\n",
    "    C = confusion_matrix(test_y, predict_y)\n",
    "    \n",
    "    A =(((C.T)/(C.sum(axis=1))).T)\n",
    "    \n",
    "    B =(C/C.sum(axis=0))\n",
    "    plt.figure(figsize=(20,4))\n",
    "    \n",
    "    labels = [0,1]\n",
    "    # representing A in heatmap format\n",
    "    cmap=sns.light_palette(\"blue\")\n",
    "    plt.subplot(1, 3, 1)\n",
    "    sns.heatmap(C, annot=True, cmap=cmap, fmt=\".3f\", xticklabels=labels, yticklabels=labels)\n",
    "    plt.xlabel('Predicted Class')\n",
    "    plt.ylabel('Original Class')\n",
    "    plt.title(\"Confusion matrix\")\n",
    "    \n",
    "    plt.subplot(1, 3, 2)\n",
    "    sns.heatmap(B, annot=True, cmap=cmap, fmt=\".3f\", xticklabels=labels, yticklabels=labels)\n",
    "    plt.xlabel('Predicted Class')\n",
    "    plt.ylabel('Original Class')\n",
    "    plt.title(\"Precision matrix\")\n",
    "    \n",
    "    plt.subplot(1, 3, 3)\n",
    "    # representing B in heatmap format\n",
    "    sns.heatmap(A, annot=True, cmap=cmap, fmt=\".3f\", xticklabels=labels, yticklabels=labels)\n",
    "    plt.xlabel('Predicted Class')\n",
    "    plt.ylabel('Original Class')\n",
    "    plt.title(\"Recall matrix\")\n",
    "    \n",
    "    plt.show()"
   ]
  },
  {
   "cell_type": "code",
   "execution_count": 0,
   "metadata": {
    "colab": {},
    "colab_type": "code",
    "id": "s6t11dhTHgl-",
    "outputId": "189de3be-1c99-4653-f56f-12b18b0f4db7"
   },
   "outputs": [
    {
     "name": "stdout",
     "output_type": "stream",
     "text": [
      "Train confusion_matrix\n"
     ]
    },
    {
     "data": {
      "image/png": "[encoded data removed]",
      "text/plain": [
       "<Figure size 1440x288 with 6 Axes>"
      ]
     },
     "metadata": {
      "tags": []
     },
     "output_type": "display_data"
    },
    {
     "name": "stdout",
     "output_type": "stream",
     "text": [
      "Test confusion_matrix\n"
     ]
    },
    {
     "data": {
      "image/png": "[encoded data removed]",
      "text/plain": [
       "<Figure size 1440x288 with 6 Axes>"
      ]
     },
     "metadata": {
      "tags": []
     },
     "output_type": "display_data"
    }
   ],
   "source": [
    "print('Train confusion_matrix')\n",
    "plot_confusion_matrix(y_train,y_train_pred)\n",
    "print('Test confusion_matrix')\n",
    "plot_confusion_matrix(y_test,y_test_pred)"
   ]
  },
  {
   "cell_type": "code",
   "execution_count": 0,
   "metadata": {
    "colab": {},
    "colab_type": "code",
    "id": "61TF-VLeHgmD",
    "outputId": "795f1b39-61c7-470f-e2d0-1fe6dc7ac5fd"
   },
   "outputs": [
    {
     "data": {
      "image/png": "[encoded data removed]",
      "text/plain": [
       "<Figure size 432x288 with 1 Axes>"
      ]
     },
     "metadata": {
      "tags": []
     },
     "output_type": "display_data"
    }
   ],
   "source": [
    "from sklearn.metrics import roc_curve, auc\n",
    "fpr,tpr,ths = roc_curve(y_test,y_test_pred)\n",
    "auc_sc = auc(fpr, tpr)\n",
    "plt.plot(fpr, tpr, color='navy',label='ROC curve (area = %0.2f)' % auc_sc)\n",
    "plt.xlabel('False Positive Rate')\n",
    "plt.ylabel('True Positive Rate')\n",
    "plt.title('Receiver operating characteristic with test data')\n",
    "plt.legend()\n",
    "plt.show()"
   ]
  },
  {
   "cell_type": "code",
   "execution_count": 0,
   "metadata": {
    "colab": {},
    "colab_type": "code",
    "id": "HEZ7uvN6HgmK",
    "outputId": "6f762256-54fc-4e2f-865b-22342033eb2c",
    "scrolled": false
   },
   "outputs": [
    {
     "data": {
      "image/png": "[encoded data removed]",
      "text/plain": [
       "<Figure size 720x864 with 1 Axes>"
      ]
     },
     "metadata": {
      "tags": []
     },
     "output_type": "display_data"
    }
   ],
   "source": [
    "features = df_final_train.columns\n",
    "importances = clf.feature_importances_\n",
    "indices = (np.argsort(importances))[-25:]\n",
    "plt.figure(figsize=(10,12))\n",
    "plt.title('Feature Importances')\n",
    "plt.barh(range(len(indices)), importances[indices], color='r', align='center')\n",
    "plt.yticks(range(len(indices)), [features[i] for i in indices])\n",
    "plt.xlabel('Relative Importance')\n",
    "plt.show()"
   ]
  },
  {
   "cell_type": "markdown",
   "metadata": {},
   "source": [
    "## Preferential Attachment :"
   ]
  },
  {
   "cell_type": "code",
   "execution_count": 0,
   "metadata": {
    "colab": {},
    "colab_type": "code",
    "id": "yYUGXgCT3UC3"
   },
   "outputs": [],
   "source": [
    "from pandas import read_hdf\n",
    "train = read_hdf('drive/My Drive/data/fea_sample/storage_sample_stage4.h5', 'train_df',mode='r')\n",
    "test = read_hdf('drive/My Drive/data/fea_sample/storage_sample_stage4.h5', 'test_df',mode='r')"
   ]
  },
  {
   "cell_type": "code",
   "execution_count": 0,
   "metadata": {
    "colab": {},
    "colab_type": "code",
    "id": "10nAZAb75hyV"
   },
   "outputs": [],
   "source": [
    "Y_train = train.indicator_link\n",
    "Y_test = test.indicator_link "
   ]
  },
  {
   "cell_type": "code",
   "execution_count": 45,
   "metadata": {
    "colab": {
     "base_uri": "https://localhost:8080/",
     "height": 118
    },
    "colab_type": "code",
    "id": "XBGlOh0fmG4i",
    "outputId": "11829d85-f738-4d42-f527-85a5cb0367f5"
   },
   "outputs": [
    {
     "name": "stdout",
     "output_type": "stream",
     "text": [
      "Name: \n",
      "Type: DiGraph\n",
      "Number of nodes: 1780722\n",
      "Number of edges: 7550015\n",
      "Average in degree:   4.2399\n",
      "Average out degree:   4.2399\n"
     ]
    }
   ],
   "source": [
    "if os.path.isfile('drive/My Drive/data/after_eda/train_pos_after_eda.csv'):\n",
    "    graph_train=nx.read_edgelist('drive/My Drive/data/after_eda/train_pos_after_eda.csv',delimiter=',',create_using=nx.DiGraph(),nodetype=int)\n",
    "    print(nx.info(graph_train))\n",
    "else:\n",
    "    print(\"Run the EDA cells or download the files from drive\")"
   ]
  },
  {
   "cell_type": "code",
   "execution_count": 0,
   "metadata": {
    "colab": {},
    "colab_type": "code",
    "id": "EA-xWw98nPua"
   },
   "outputs": [],
   "source": [
    "def PA_follower(a,b):\n",
    "    try:\n",
    "        return(len(set(graph_train.predecessors(a)))*len(set(graph_train.predecessors(b))))\n",
    "    except:\n",
    "        pass\n",
    "  \n",
    "def PA_followee(a,b):\n",
    "    try:\n",
    "        return (len(set(graph_train.successors(a)))*len(set(graph_train.successors(b))))\n",
    "    except:\n",
    "        pass \n"
   ]
  },
  {
   "cell_type": "code",
   "execution_count": 0,
   "metadata": {
    "colab": {},
    "colab_type": "code",
    "id": "vvsAkP-XpZ-G"
   },
   "outputs": [],
   "source": [
    "\n",
    "\n",
    "train['follower_preferential'] = train.apply(lambda row: PA_follower(row['source_node'],row['destination_node']),axis=1)\n",
    "test['follower_preferential'] = test.apply(lambda row: PA_follower(row['source_node'],row['destination_node']),axis=1)\n",
    "\n",
    "\n",
    "train['followee_preferential'] = train.apply(lambda row: PA_followee(row['source_node'],row['destination_node']),axis=1)\n",
    "test['followee_preferential'] = test.apply(lambda row: PA_followee(row['source_node'],row['destination_node']),axis=1)"
   ]
  },
  {
   "cell_type": "code",
   "execution_count": 51,
   "metadata": {
    "colab": {
     "base_uri": "https://localhost:8080/",
     "height": 299
    },
    "colab_type": "code",
    "id": "Ze9Xb71op8iz",
    "outputId": "31d6fc8e-24ef-41e8-e31f-1350bbdd2715"
   },
   "outputs": [
    {
     "data": {
      "text/html": [
       "<div>\n",
       "<style scoped>\n",
       "    .dataframe tbody tr th:only-of-type {\n",
       "        vertical-align: middle;\n",
       "    }\n",
       "\n",
       "    .dataframe tbody tr th {\n",
       "        vertical-align: top;\n",
       "    }\n",
       "\n",
       "    .dataframe thead th {\n",
       "        text-align: right;\n",
       "    }\n",
       "</style>\n",
       "<table border=\"1\" class=\"dataframe\">\n",
       "  <thead>\n",
       "    <tr style=\"text-align: right;\">\n",
       "      <th></th>\n",
       "      <th>source_node</th>\n",
       "      <th>destination_node</th>\n",
       "      <th>indicator_link</th>\n",
       "      <th>jaccard_followers</th>\n",
       "      <th>jaccard_followees</th>\n",
       "      <th>cosine_followers</th>\n",
       "      <th>cosine_followees</th>\n",
       "      <th>num_followers_s</th>\n",
       "      <th>num_followees_s</th>\n",
       "      <th>num_followees_d</th>\n",
       "      <th>inter_followers</th>\n",
       "      <th>inter_followees</th>\n",
       "      <th>adar_index</th>\n",
       "      <th>follows_back</th>\n",
       "      <th>same_comp</th>\n",
       "      <th>shortest_path</th>\n",
       "      <th>weight_in</th>\n",
       "      <th>weight_out</th>\n",
       "      <th>weight_f1</th>\n",
       "      <th>weight_f2</th>\n",
       "      <th>weight_f3</th>\n",
       "      <th>weight_f4</th>\n",
       "      <th>page_rank_s</th>\n",
       "      <th>page_rank_d</th>\n",
       "      <th>katz_s</th>\n",
       "      <th>katz_d</th>\n",
       "      <th>hubs_s</th>\n",
       "      <th>hubs_d</th>\n",
       "      <th>authorities_s</th>\n",
       "      <th>authorities_d</th>\n",
       "      <th>svd_u_s_1</th>\n",
       "      <th>svd_u_s_2</th>\n",
       "      <th>svd_u_s_3</th>\n",
       "      <th>svd_u_s_4</th>\n",
       "      <th>svd_u_s_5</th>\n",
       "      <th>svd_u_s_6</th>\n",
       "      <th>svd_u_d_1</th>\n",
       "      <th>svd_u_d_2</th>\n",
       "      <th>svd_u_d_3</th>\n",
       "      <th>svd_u_d_4</th>\n",
       "      <th>svd_u_d_5</th>\n",
       "      <th>svd_u_d_6</th>\n",
       "      <th>svd_v_s_1</th>\n",
       "      <th>svd_v_s_2</th>\n",
       "      <th>svd_v_s_3</th>\n",
       "      <th>svd_v_s_4</th>\n",
       "      <th>svd_v_s_5</th>\n",
       "      <th>svd_v_s_6</th>\n",
       "      <th>svd_v_d_1</th>\n",
       "      <th>svd_v_d_2</th>\n",
       "      <th>svd_v_d_3</th>\n",
       "      <th>svd_v_d_4</th>\n",
       "      <th>svd_v_d_5</th>\n",
       "      <th>svd_v_d_6</th>\n",
       "      <th>follower_preferential</th>\n",
       "      <th>followee_preferential</th>\n",
       "    </tr>\n",
       "  </thead>\n",
       "  <tbody>\n",
       "    <tr>\n",
       "      <th>0</th>\n",
       "      <td>273084</td>\n",
       "      <td>1505602</td>\n",
       "      <td>1</td>\n",
       "      <td>0</td>\n",
       "      <td>0.000000</td>\n",
       "      <td>0.000000</td>\n",
       "      <td>0.000000</td>\n",
       "      <td>6</td>\n",
       "      <td>15</td>\n",
       "      <td>8</td>\n",
       "      <td>0</td>\n",
       "      <td>0</td>\n",
       "      <td>0.000000</td>\n",
       "      <td>0</td>\n",
       "      <td>1</td>\n",
       "      <td>4</td>\n",
       "      <td>0.377964</td>\n",
       "      <td>0.250000</td>\n",
       "      <td>0.627964</td>\n",
       "      <td>0.094491</td>\n",
       "      <td>1.005929</td>\n",
       "      <td>0.877964</td>\n",
       "      <td>2.045290e-06</td>\n",
       "      <td>3.459963e-07</td>\n",
       "      <td>0.000773</td>\n",
       "      <td>0.000756</td>\n",
       "      <td>1.943132e-13</td>\n",
       "      <td>1.941103e-13</td>\n",
       "      <td>9.226339e-16</td>\n",
       "      <td>2.231877e-15</td>\n",
       "      <td>-1.666226e-13</td>\n",
       "      <td>4.613397e-13</td>\n",
       "      <td>1.043044e-05</td>\n",
       "      <td>6.676960e-13</td>\n",
       "      <td>2.451081e-13</td>\n",
       "      <td>3.584580e-12</td>\n",
       "      <td>-2.038017e-11</td>\n",
       "      <td>5.397495e-13</td>\n",
       "      <td>1.068946e-06</td>\n",
       "      <td>1.192357e-12</td>\n",
       "      <td>2.279485e-12</td>\n",
       "      <td>3.580837e-12</td>\n",
       "      <td>-7.216133e-13</td>\n",
       "      <td>3.925975e-13</td>\n",
       "      <td>1.983691e-06</td>\n",
       "      <td>1.545075e-13</td>\n",
       "      <td>8.108434e-13</td>\n",
       "      <td>1.719702e-14</td>\n",
       "      <td>-1.355368e-12</td>\n",
       "      <td>4.675307e-13</td>\n",
       "      <td>1.128591e-06</td>\n",
       "      <td>6.616550e-14</td>\n",
       "      <td>9.771077e-13</td>\n",
       "      <td>4.159752e-14</td>\n",
       "      <td>66.0</td>\n",
       "      <td>120.0</td>\n",
       "    </tr>\n",
       "    <tr>\n",
       "      <th>1</th>\n",
       "      <td>832016</td>\n",
       "      <td>1543415</td>\n",
       "      <td>1</td>\n",
       "      <td>0</td>\n",
       "      <td>0.187135</td>\n",
       "      <td>0.028382</td>\n",
       "      <td>0.343828</td>\n",
       "      <td>94</td>\n",
       "      <td>61</td>\n",
       "      <td>142</td>\n",
       "      <td>11</td>\n",
       "      <td>32</td>\n",
       "      <td>16.362912</td>\n",
       "      <td>0</td>\n",
       "      <td>1</td>\n",
       "      <td>2</td>\n",
       "      <td>0.102598</td>\n",
       "      <td>0.127000</td>\n",
       "      <td>0.229598</td>\n",
       "      <td>0.013030</td>\n",
       "      <td>0.332196</td>\n",
       "      <td>0.356598</td>\n",
       "      <td>2.353458e-07</td>\n",
       "      <td>6.427660e-07</td>\n",
       "      <td>0.000845</td>\n",
       "      <td>0.001317</td>\n",
       "      <td>3.906648e-11</td>\n",
       "      <td>9.424102e-11</td>\n",
       "      <td>1.208074e-11</td>\n",
       "      <td>1.273080e-10</td>\n",
       "      <td>7.051088e-13</td>\n",
       "      <td>-8.250564e-11</td>\n",
       "      <td>-1.717702e-10</td>\n",
       "      <td>3.705016e-02</td>\n",
       "      <td>1.032392e-11</td>\n",
       "      <td>7.207497e-10</td>\n",
       "      <td>1.644399e-12</td>\n",
       "      <td>-2.047752e-10</td>\n",
       "      <td>-3.943936e-10</td>\n",
       "      <td>8.617541e-02</td>\n",
       "      <td>2.399540e-11</td>\n",
       "      <td>1.738682e-09</td>\n",
       "      <td>2.685878e-13</td>\n",
       "      <td>-3.316849e-11</td>\n",
       "      <td>-6.236048e-11</td>\n",
       "      <td>1.345726e-02</td>\n",
       "      <td>3.703479e-12</td>\n",
       "      <td>2.251737e-10</td>\n",
       "      <td>1.245101e-12</td>\n",
       "      <td>-1.636948e-10</td>\n",
       "      <td>-3.112650e-10</td>\n",
       "      <td>6.738902e-02</td>\n",
       "      <td>2.607801e-11</td>\n",
       "      <td>2.372904e-09</td>\n",
       "      <td>1598.0</td>\n",
       "      <td>8662.0</td>\n",
       "    </tr>\n",
       "    <tr>\n",
       "      <th>2</th>\n",
       "      <td>1325247</td>\n",
       "      <td>760242</td>\n",
       "      <td>1</td>\n",
       "      <td>0</td>\n",
       "      <td>0.369565</td>\n",
       "      <td>0.156957</td>\n",
       "      <td>0.566038</td>\n",
       "      <td>28</td>\n",
       "      <td>41</td>\n",
       "      <td>22</td>\n",
       "      <td>26</td>\n",
       "      <td>17</td>\n",
       "      <td>10.991826</td>\n",
       "      <td>0</td>\n",
       "      <td>1</td>\n",
       "      <td>2</td>\n",
       "      <td>0.185695</td>\n",
       "      <td>0.154303</td>\n",
       "      <td>0.339999</td>\n",
       "      <td>0.028653</td>\n",
       "      <td>0.525694</td>\n",
       "      <td>0.494302</td>\n",
       "      <td>6.211019e-07</td>\n",
       "      <td>5.179801e-07</td>\n",
       "      <td>0.000885</td>\n",
       "      <td>0.000855</td>\n",
       "      <td>7.730764e-114</td>\n",
       "      <td>4.067322e-114</td>\n",
       "      <td>2.681298e-113</td>\n",
       "      <td>2.199205e-113</td>\n",
       "      <td>-4.900734e-18</td>\n",
       "      <td>1.096831e-18</td>\n",
       "      <td>-6.816555e-19</td>\n",
       "      <td>-2.226453e-18</td>\n",
       "      <td>6.710556e-19</td>\n",
       "      <td>-8.161336e-19</td>\n",
       "      <td>-2.606312e-18</td>\n",
       "      <td>6.392474e-19</td>\n",
       "      <td>-4.245830e-19</td>\n",
       "      <td>-1.315747e-18</td>\n",
       "      <td>3.849627e-19</td>\n",
       "      <td>-1.131971e-18</td>\n",
       "      <td>-1.510265e-18</td>\n",
       "      <td>1.454979e-19</td>\n",
       "      <td>-2.380564e-19</td>\n",
       "      <td>-7.021227e-19</td>\n",
       "      <td>1.940403e-19</td>\n",
       "      <td>-3.365389e-19</td>\n",
       "      <td>-1.238370e-18</td>\n",
       "      <td>1.438175e-19</td>\n",
       "      <td>-1.852863e-19</td>\n",
       "      <td>-5.901864e-19</td>\n",
       "      <td>1.629341e-19</td>\n",
       "      <td>-2.572452e-19</td>\n",
       "      <td>980.0</td>\n",
       "      <td>902.0</td>\n",
       "    </tr>\n",
       "    <tr>\n",
       "      <th>3</th>\n",
       "      <td>1368400</td>\n",
       "      <td>1006992</td>\n",
       "      <td>1</td>\n",
       "      <td>0</td>\n",
       "      <td>0.000000</td>\n",
       "      <td>0.000000</td>\n",
       "      <td>0.000000</td>\n",
       "      <td>11</td>\n",
       "      <td>5</td>\n",
       "      <td>7</td>\n",
       "      <td>0</td>\n",
       "      <td>0</td>\n",
       "      <td>0.000000</td>\n",
       "      <td>0</td>\n",
       "      <td>1</td>\n",
       "      <td>6</td>\n",
       "      <td>0.288675</td>\n",
       "      <td>0.408248</td>\n",
       "      <td>0.696923</td>\n",
       "      <td>0.117851</td>\n",
       "      <td>0.985599</td>\n",
       "      <td>1.105172</td>\n",
       "      <td>2.998153e-07</td>\n",
       "      <td>1.704245e-06</td>\n",
       "      <td>0.000739</td>\n",
       "      <td>0.000773</td>\n",
       "      <td>5.443738e-17</td>\n",
       "      <td>4.139999e-16</td>\n",
       "      <td>2.413250e-14</td>\n",
       "      <td>6.688064e-15</td>\n",
       "      <td>-9.965436e-12</td>\n",
       "      <td>4.077137e-13</td>\n",
       "      <td>5.083778e-10</td>\n",
       "      <td>1.985267e-14</td>\n",
       "      <td>2.471968e-12</td>\n",
       "      <td>1.004354e-15</td>\n",
       "      <td>-2.629029e-13</td>\n",
       "      <td>1.428940e-11</td>\n",
       "      <td>9.146784e-11</td>\n",
       "      <td>8.590132e-12</td>\n",
       "      <td>2.406658e-10</td>\n",
       "      <td>7.638106e-15</td>\n",
       "      <td>-2.170899e-13</td>\n",
       "      <td>5.206150e-13</td>\n",
       "      <td>6.058498e-11</td>\n",
       "      <td>1.514614e-11</td>\n",
       "      <td>1.513483e-12</td>\n",
       "      <td>4.498061e-13</td>\n",
       "      <td>-9.818087e-10</td>\n",
       "      <td>3.454672e-11</td>\n",
       "      <td>5.213635e-08</td>\n",
       "      <td>9.595823e-13</td>\n",
       "      <td>3.047045e-10</td>\n",
       "      <td>1.246592e-13</td>\n",
       "      <td>22.0</td>\n",
       "      <td>35.0</td>\n",
       "    </tr>\n",
       "    <tr>\n",
       "      <th>4</th>\n",
       "      <td>140165</td>\n",
       "      <td>1708748</td>\n",
       "      <td>1</td>\n",
       "      <td>0</td>\n",
       "      <td>0.000000</td>\n",
       "      <td>0.000000</td>\n",
       "      <td>0.000000</td>\n",
       "      <td>1</td>\n",
       "      <td>11</td>\n",
       "      <td>3</td>\n",
       "      <td>0</td>\n",
       "      <td>0</td>\n",
       "      <td>0.000000</td>\n",
       "      <td>0</td>\n",
       "      <td>0</td>\n",
       "      <td>-1</td>\n",
       "      <td>1.000000</td>\n",
       "      <td>0.301511</td>\n",
       "      <td>1.301511</td>\n",
       "      <td>0.301511</td>\n",
       "      <td>2.301511</td>\n",
       "      <td>1.603023</td>\n",
       "      <td>4.349180e-07</td>\n",
       "      <td>2.089590e-07</td>\n",
       "      <td>0.000751</td>\n",
       "      <td>0.000735</td>\n",
       "      <td>3.887821e-16</td>\n",
       "      <td>4.721269e-16</td>\n",
       "      <td>7.552255e-16</td>\n",
       "      <td>2.734009e-18</td>\n",
       "      <td>-3.408943e-13</td>\n",
       "      <td>1.125207e-13</td>\n",
       "      <td>3.190883e-07</td>\n",
       "      <td>8.550846e-14</td>\n",
       "      <td>1.405351e-13</td>\n",
       "      <td>7.172313e-15</td>\n",
       "      <td>-2.550169e-13</td>\n",
       "      <td>2.424636e-13</td>\n",
       "      <td>2.436301e-07</td>\n",
       "      <td>3.679960e-14</td>\n",
       "      <td>1.348520e-13</td>\n",
       "      <td>8.710393e-15</td>\n",
       "      <td>-4.795514e-13</td>\n",
       "      <td>1.521297e-13</td>\n",
       "      <td>1.197283e-07</td>\n",
       "      <td>1.999809e-14</td>\n",
       "      <td>3.360247e-13</td>\n",
       "      <td>1.407670e-14</td>\n",
       "      <td>0.000000e+00</td>\n",
       "      <td>0.000000e+00</td>\n",
       "      <td>0.000000e+00</td>\n",
       "      <td>0.000000e+00</td>\n",
       "      <td>0.000000e+00</td>\n",
       "      <td>0.000000e+00</td>\n",
       "      <td>5.0</td>\n",
       "      <td>33.0</td>\n",
       "    </tr>\n",
       "  </tbody>\n",
       "</table>\n",
       "</div>"
      ],
      "text/plain": [
       "   source_node  destination_node  ...  follower_preferential  followee_preferential\n",
       "0       273084           1505602  ...                   66.0                  120.0\n",
       "1       832016           1543415  ...                 1598.0                 8662.0\n",
       "2      1325247            760242  ...                  980.0                  902.0\n",
       "3      1368400           1006992  ...                   22.0                   35.0\n",
       "4       140165           1708748  ...                    5.0                   33.0\n",
       "\n",
       "[5 rows x 56 columns]"
      ]
     },
     "execution_count": 51,
     "metadata": {
      "tags": []
     },
     "output_type": "execute_result"
    }
   ],
   "source": [
    "train.head()"
   ]
  },
  {
   "cell_type": "markdown",
   "metadata": {},
   "source": [
    "## DOT SVD :"
   ]
  },
  {
   "cell_type": "code",
   "execution_count": 52,
   "metadata": {
    "colab": {
     "base_uri": "https://localhost:8080/",
     "height": 34
    },
    "colab_type": "code",
    "id": "tVlkwKSdrP9B",
    "outputId": "2ab7e142-e257-4c7f-dc7d-039b832701fa"
   },
   "outputs": [
    {
     "name": "stderr",
     "output_type": "stream",
     "text": [
      "100002it [00:48, 2063.69it/s]\n"
     ]
    }
   ],
   "source": [
    "svd_dot_u = []\n",
    "svd_dot_v = []\n",
    "for i, j in tqdm(train.iterrows()):\n",
    "    train_u_source = []\n",
    "    train_u_dest = []\n",
    "    train_u_source.append(train['svd_u_s_1'][i])\n",
    "    train_u_source.append(train['svd_u_s_2'][i])\n",
    "    train_u_source.append(train['svd_u_s_3'][i])\n",
    "    train_u_source.append(train['svd_u_s_4'][i])\n",
    "    train_u_source.append(train['svd_u_s_5'][i])\n",
    "    train_u_source.append(train['svd_u_s_6'][i])\n",
    "    \n",
    "    train_u_dest.append(train['svd_u_d_1'][i])\n",
    "    train_u_dest.append(train['svd_u_d_2'][i])\n",
    "    train_u_dest.append(train['svd_u_d_3'][i])\n",
    "    train_u_dest.append(train['svd_u_d_4'][i])\n",
    "    train_u_dest.append(train['svd_u_d_5'][i])\n",
    "    train_u_dest.append(train['svd_u_d_6'][i])\n",
    "    \n",
    "    svd_dot_u.append(np.dot(train_u_source, train_u_dest))\n",
    "    \n",
    "    train_v_source = []\n",
    "    train_v_dest = []\n",
    "    train_v_source.append(train['svd_v_s_1'][i])\n",
    "    train_v_source.append(train['svd_v_s_2'][i])\n",
    "    train_v_source.append(train['svd_v_s_3'][i])\n",
    "    train_v_source.append(train['svd_v_s_4'][i])\n",
    "    train_v_source.append(train['svd_v_s_5'][i])\n",
    "    train_v_source.append(train['svd_v_s_6'][i])\n",
    "    \n",
    "    train_v_dest.append(train['svd_v_d_1'][i])\n",
    "    train_v_dest.append(train['svd_v_d_2'][i])\n",
    "    train_v_dest.append(train['svd_v_d_3'][i])\n",
    "    train_v_dest.append(train['svd_v_d_4'][i])\n",
    "    train_v_dest.append(train['svd_v_d_5'][i])\n",
    "    train_v_dest.append(train['svd_v_d_6'][i])\n",
    "    \n",
    "    svd_dot_v.append(np.dot(train_v_source, train_v_dest))\n",
    "\n",
    "train['svd_dot_u'] = svd_dot_u\n",
    "train['svd_dot_v'] = svd_dot_v"
   ]
  },
  {
   "cell_type": "code",
   "execution_count": 53,
   "metadata": {
    "colab": {
     "base_uri": "https://localhost:8080/",
     "height": 34
    },
    "colab_type": "code",
    "id": "9R4-LfmqviyH",
    "outputId": "a4e2773d-05c5-4466-ddfc-2277fd8299e8"
   },
   "outputs": [
    {
     "name": "stderr",
     "output_type": "stream",
     "text": [
      "50002it [00:23, 2121.31it/s]\n"
     ]
    }
   ],
   "source": [
    "svd_dot_u = []\n",
    "svd_dot_v = []\n",
    "for i, j in tqdm(test.iterrows()):\n",
    "    test_u_source = []\n",
    "    test_u_dest = []\n",
    "    test_u_source.append(test['svd_u_s_1'][i])\n",
    "    test_u_source.append(test['svd_u_s_2'][i])\n",
    "    test_u_source.append(test['svd_u_s_3'][i])\n",
    "    test_u_source.append(test['svd_u_s_4'][i])\n",
    "    test_u_source.append(test['svd_u_s_5'][i])\n",
    "    test_u_source.append(test['svd_u_s_6'][i])\n",
    "    \n",
    "    test_u_dest.append(test['svd_u_d_1'][i])\n",
    "    test_u_dest.append(test['svd_u_d_2'][i])\n",
    "    test_u_dest.append(test['svd_u_d_3'][i])\n",
    "    test_u_dest.append(test['svd_u_d_4'][i])\n",
    "    test_u_dest.append(test['svd_u_d_5'][i])\n",
    "    test_u_dest.append(test['svd_u_d_6'][i])\n",
    "    \n",
    "    svd_dot_u.append(np.dot(test_u_source, test_u_dest))\n",
    "    \n",
    "    test_v_source = []\n",
    "    test_v_dest = []\n",
    "    test_v_source.append(test['svd_v_s_1'][i])\n",
    "    test_v_source.append(test['svd_v_s_2'][i])\n",
    "    test_v_source.append(test['svd_v_s_3'][i])\n",
    "    test_v_source.append(test['svd_v_s_4'][i])\n",
    "    test_v_source.append(test['svd_v_s_5'][i])\n",
    "    test_v_source.append(test['svd_v_s_6'][i])\n",
    "    \n",
    "    test_v_dest.append(test['svd_v_d_1'][i])\n",
    "    test_v_dest.append(test['svd_v_d_2'][i])\n",
    "    test_v_dest.append(test['svd_v_d_3'][i])\n",
    "    test_v_dest.append(test['svd_v_d_4'][i])\n",
    "    test_v_dest.append(test['svd_v_d_5'][i])\n",
    "    test_v_dest.append(test['svd_v_d_6'][i])\n",
    "    \n",
    "    svd_dot_v.append(np.dot(test_v_source, test_v_dest))\n",
    "\n",
    "test['svd_dot_u'] = svd_dot_u\n",
    "test['svd_dot_v'] = svd_dot_v"
   ]
  },
  {
   "cell_type": "code",
   "execution_count": 54,
   "metadata": {
    "colab": {
     "base_uri": "https://localhost:8080/",
     "height": 299
    },
    "colab_type": "code",
    "id": "vDojsg1OyopN",
    "outputId": "e7513284-0f30-45c8-9b3c-4f3e073541d9"
   },
   "outputs": [
    {
     "data": {
      "text/html": [
       "<div>\n",
       "<style scoped>\n",
       "    .dataframe tbody tr th:only-of-type {\n",
       "        vertical-align: middle;\n",
       "    }\n",
       "\n",
       "    .dataframe tbody tr th {\n",
       "        vertical-align: top;\n",
       "    }\n",
       "\n",
       "    .dataframe thead th {\n",
       "        text-align: right;\n",
       "    }\n",
       "</style>\n",
       "<table border=\"1\" class=\"dataframe\">\n",
       "  <thead>\n",
       "    <tr style=\"text-align: right;\">\n",
       "      <th></th>\n",
       "      <th>source_node</th>\n",
       "      <th>destination_node</th>\n",
       "      <th>indicator_link</th>\n",
       "      <th>jaccard_followers</th>\n",
       "      <th>jaccard_followees</th>\n",
       "      <th>cosine_followers</th>\n",
       "      <th>cosine_followees</th>\n",
       "      <th>num_followers_s</th>\n",
       "      <th>num_followees_s</th>\n",
       "      <th>num_followees_d</th>\n",
       "      <th>inter_followers</th>\n",
       "      <th>inter_followees</th>\n",
       "      <th>adar_index</th>\n",
       "      <th>follows_back</th>\n",
       "      <th>same_comp</th>\n",
       "      <th>shortest_path</th>\n",
       "      <th>weight_in</th>\n",
       "      <th>weight_out</th>\n",
       "      <th>weight_f1</th>\n",
       "      <th>weight_f2</th>\n",
       "      <th>weight_f3</th>\n",
       "      <th>weight_f4</th>\n",
       "      <th>page_rank_s</th>\n",
       "      <th>page_rank_d</th>\n",
       "      <th>katz_s</th>\n",
       "      <th>katz_d</th>\n",
       "      <th>hubs_s</th>\n",
       "      <th>hubs_d</th>\n",
       "      <th>authorities_s</th>\n",
       "      <th>authorities_d</th>\n",
       "      <th>svd_u_s_1</th>\n",
       "      <th>svd_u_s_2</th>\n",
       "      <th>svd_u_s_3</th>\n",
       "      <th>svd_u_s_4</th>\n",
       "      <th>svd_u_s_5</th>\n",
       "      <th>svd_u_s_6</th>\n",
       "      <th>svd_u_d_1</th>\n",
       "      <th>svd_u_d_2</th>\n",
       "      <th>svd_u_d_3</th>\n",
       "      <th>svd_u_d_4</th>\n",
       "      <th>svd_u_d_5</th>\n",
       "      <th>svd_u_d_6</th>\n",
       "      <th>svd_v_s_1</th>\n",
       "      <th>svd_v_s_2</th>\n",
       "      <th>svd_v_s_3</th>\n",
       "      <th>svd_v_s_4</th>\n",
       "      <th>svd_v_s_5</th>\n",
       "      <th>svd_v_s_6</th>\n",
       "      <th>svd_v_d_1</th>\n",
       "      <th>svd_v_d_2</th>\n",
       "      <th>svd_v_d_3</th>\n",
       "      <th>svd_v_d_4</th>\n",
       "      <th>svd_v_d_5</th>\n",
       "      <th>svd_v_d_6</th>\n",
       "      <th>follower_preferential</th>\n",
       "      <th>followee_preferential</th>\n",
       "      <th>svd_dot_u</th>\n",
       "      <th>svd_dot_v</th>\n",
       "    </tr>\n",
       "  </thead>\n",
       "  <tbody>\n",
       "    <tr>\n",
       "      <th>0</th>\n",
       "      <td>848424</td>\n",
       "      <td>784690</td>\n",
       "      <td>1</td>\n",
       "      <td>0</td>\n",
       "      <td>0.0</td>\n",
       "      <td>0.029161</td>\n",
       "      <td>0.000000</td>\n",
       "      <td>14</td>\n",
       "      <td>6</td>\n",
       "      <td>9</td>\n",
       "      <td>1</td>\n",
       "      <td>0</td>\n",
       "      <td>0.000000</td>\n",
       "      <td>1</td>\n",
       "      <td>1</td>\n",
       "      <td>2</td>\n",
       "      <td>0.258199</td>\n",
       "      <td>0.377964</td>\n",
       "      <td>0.636163</td>\n",
       "      <td>0.097590</td>\n",
       "      <td>0.894362</td>\n",
       "      <td>1.014128</td>\n",
       "      <td>6.557971e-07</td>\n",
       "      <td>0.000002</td>\n",
       "      <td>0.000754</td>\n",
       "      <td>0.000786</td>\n",
       "      <td>3.243237e-16</td>\n",
       "      <td>1.745627e-16</td>\n",
       "      <td>2.969838e-15</td>\n",
       "      <td>9.269213e-14</td>\n",
       "      <td>-9.987979e-12</td>\n",
       "      <td>2.283676e-13</td>\n",
       "      <td>1.439968e-10</td>\n",
       "      <td>6.136162e-13</td>\n",
       "      <td>4.188171e-13</td>\n",
       "      <td>5.983361e-15</td>\n",
       "      <td>-1.026186e-11</td>\n",
       "      <td>5.316372e-13</td>\n",
       "      <td>5.843225e-10</td>\n",
       "      <td>1.166047e-13</td>\n",
       "      <td>2.253356e-11</td>\n",
       "      <td>3.220367e-15</td>\n",
       "      <td>-2.148852e-13</td>\n",
       "      <td>1.883148e-13</td>\n",
       "      <td>5.904807e-11</td>\n",
       "      <td>2.701538e-12</td>\n",
       "      <td>4.341620e-13</td>\n",
       "      <td>5.535503e-14</td>\n",
       "      <td>-9.994076e-10</td>\n",
       "      <td>5.791910e-10</td>\n",
       "      <td>3.512364e-07</td>\n",
       "      <td>2.486658e-09</td>\n",
       "      <td>2.771146e-09</td>\n",
       "      <td>1.727694e-12</td>\n",
       "      <td>84.0</td>\n",
       "      <td>54.0</td>\n",
       "      <td>8.425267e-20</td>\n",
       "      <td>2.074808e-17</td>\n",
       "    </tr>\n",
       "    <tr>\n",
       "      <th>1</th>\n",
       "      <td>483294</td>\n",
       "      <td>1255532</td>\n",
       "      <td>1</td>\n",
       "      <td>0</td>\n",
       "      <td>0.0</td>\n",
       "      <td>0.000000</td>\n",
       "      <td>0.000000</td>\n",
       "      <td>17</td>\n",
       "      <td>1</td>\n",
       "      <td>19</td>\n",
       "      <td>0</td>\n",
       "      <td>0</td>\n",
       "      <td>0.000000</td>\n",
       "      <td>1</td>\n",
       "      <td>1</td>\n",
       "      <td>7</td>\n",
       "      <td>0.235702</td>\n",
       "      <td>0.707107</td>\n",
       "      <td>0.942809</td>\n",
       "      <td>0.166667</td>\n",
       "      <td>1.178511</td>\n",
       "      <td>1.649916</td>\n",
       "      <td>2.172064e-07</td>\n",
       "      <td>0.000001</td>\n",
       "      <td>0.000739</td>\n",
       "      <td>0.000801</td>\n",
       "      <td>1.702625e-19</td>\n",
       "      <td>2.706300e-15</td>\n",
       "      <td>2.522357e-16</td>\n",
       "      <td>5.277458e-15</td>\n",
       "      <td>-2.079151e-15</td>\n",
       "      <td>7.009864e-16</td>\n",
       "      <td>6.970710e-10</td>\n",
       "      <td>9.561769e-15</td>\n",
       "      <td>1.728794e-15</td>\n",
       "      <td>3.122935e-18</td>\n",
       "      <td>-1.960277e-11</td>\n",
       "      <td>2.861530e-11</td>\n",
       "      <td>1.939773e-08</td>\n",
       "      <td>1.907382e-12</td>\n",
       "      <td>3.797410e-11</td>\n",
       "      <td>4.992848e-14</td>\n",
       "      <td>-4.054309e-13</td>\n",
       "      <td>2.895682e-13</td>\n",
       "      <td>2.545382e-10</td>\n",
       "      <td>2.248568e-14</td>\n",
       "      <td>3.600957e-13</td>\n",
       "      <td>4.701436e-15</td>\n",
       "      <td>-9.360516e-12</td>\n",
       "      <td>3.206809e-10</td>\n",
       "      <td>4.668696e-08</td>\n",
       "      <td>6.665777e-12</td>\n",
       "      <td>1.495979e-10</td>\n",
       "      <td>9.836670e-14</td>\n",
       "      <td>34.0</td>\n",
       "      <td>19.0</td>\n",
       "      <td>1.352160e-17</td>\n",
       "      <td>1.188376e-17</td>\n",
       "    </tr>\n",
       "    <tr>\n",
       "      <th>2</th>\n",
       "      <td>626190</td>\n",
       "      <td>1729265</td>\n",
       "      <td>1</td>\n",
       "      <td>0</td>\n",
       "      <td>0.0</td>\n",
       "      <td>0.000000</td>\n",
       "      <td>0.000000</td>\n",
       "      <td>10</td>\n",
       "      <td>16</td>\n",
       "      <td>9</td>\n",
       "      <td>0</td>\n",
       "      <td>0</td>\n",
       "      <td>0.000000</td>\n",
       "      <td>0</td>\n",
       "      <td>1</td>\n",
       "      <td>5</td>\n",
       "      <td>0.301511</td>\n",
       "      <td>0.242536</td>\n",
       "      <td>0.544047</td>\n",
       "      <td>0.073127</td>\n",
       "      <td>0.845558</td>\n",
       "      <td>0.786583</td>\n",
       "      <td>1.853369e-06</td>\n",
       "      <td>0.000002</td>\n",
       "      <td>0.000789</td>\n",
       "      <td>0.000770</td>\n",
       "      <td>9.426796e-14</td>\n",
       "      <td>4.116616e-16</td>\n",
       "      <td>2.253244e-15</td>\n",
       "      <td>2.079387e-15</td>\n",
       "      <td>-1.782290e-11</td>\n",
       "      <td>2.389627e-11</td>\n",
       "      <td>1.443050e-06</td>\n",
       "      <td>2.358030e-12</td>\n",
       "      <td>2.689638e-12</td>\n",
       "      <td>1.739178e-12</td>\n",
       "      <td>-1.863934e-13</td>\n",
       "      <td>1.806783e-13</td>\n",
       "      <td>2.544597e-07</td>\n",
       "      <td>1.693295e-13</td>\n",
       "      <td>2.712748e-13</td>\n",
       "      <td>7.594641e-15</td>\n",
       "      <td>-4.148103e-13</td>\n",
       "      <td>4.618813e-12</td>\n",
       "      <td>1.122150e-05</td>\n",
       "      <td>1.778927e-12</td>\n",
       "      <td>2.740535e-13</td>\n",
       "      <td>4.199834e-14</td>\n",
       "      <td>-4.253075e-13</td>\n",
       "      <td>4.789463e-13</td>\n",
       "      <td>3.479824e-07</td>\n",
       "      <td>1.630549e-13</td>\n",
       "      <td>3.954708e-13</td>\n",
       "      <td>3.875785e-14</td>\n",
       "      <td>150.0</td>\n",
       "      <td>144.0</td>\n",
       "      <td>3.671980e-13</td>\n",
       "      <td>3.904885e-12</td>\n",
       "    </tr>\n",
       "    <tr>\n",
       "      <th>3</th>\n",
       "      <td>947219</td>\n",
       "      <td>425228</td>\n",
       "      <td>1</td>\n",
       "      <td>0</td>\n",
       "      <td>0.0</td>\n",
       "      <td>0.000000</td>\n",
       "      <td>0.000000</td>\n",
       "      <td>37</td>\n",
       "      <td>10</td>\n",
       "      <td>34</td>\n",
       "      <td>0</td>\n",
       "      <td>0</td>\n",
       "      <td>0.000000</td>\n",
       "      <td>0</td>\n",
       "      <td>1</td>\n",
       "      <td>3</td>\n",
       "      <td>0.162221</td>\n",
       "      <td>0.301511</td>\n",
       "      <td>0.463733</td>\n",
       "      <td>0.048912</td>\n",
       "      <td>0.625954</td>\n",
       "      <td>0.765244</td>\n",
       "      <td>7.000791e-07</td>\n",
       "      <td>0.000002</td>\n",
       "      <td>0.000778</td>\n",
       "      <td>0.000884</td>\n",
       "      <td>9.876114e-14</td>\n",
       "      <td>1.039593e-13</td>\n",
       "      <td>1.511694e-14</td>\n",
       "      <td>3.478438e-14</td>\n",
       "      <td>-4.491246e-11</td>\n",
       "      <td>9.917404e-13</td>\n",
       "      <td>7.891250e-06</td>\n",
       "      <td>9.458624e-12</td>\n",
       "      <td>2.715848e-11</td>\n",
       "      <td>1.822074e-12</td>\n",
       "      <td>-1.070733e-10</td>\n",
       "      <td>2.888035e-12</td>\n",
       "      <td>2.070703e-05</td>\n",
       "      <td>7.229355e-12</td>\n",
       "      <td>3.563659e-11</td>\n",
       "      <td>1.917977e-12</td>\n",
       "      <td>-8.942488e-12</td>\n",
       "      <td>5.535630e-12</td>\n",
       "      <td>5.223676e-06</td>\n",
       "      <td>7.917166e-13</td>\n",
       "      <td>4.020707e-12</td>\n",
       "      <td>2.817657e-13</td>\n",
       "      <td>-2.162590e-11</td>\n",
       "      <td>6.939194e-12</td>\n",
       "      <td>1.879861e-05</td>\n",
       "      <td>4.384816e-12</td>\n",
       "      <td>1.239414e-11</td>\n",
       "      <td>6.483485e-13</td>\n",
       "      <td>407.0</td>\n",
       "      <td>340.0</td>\n",
       "      <td>1.634044e-10</td>\n",
       "      <td>9.819784e-11</td>\n",
       "    </tr>\n",
       "    <tr>\n",
       "      <th>4</th>\n",
       "      <td>991374</td>\n",
       "      <td>975044</td>\n",
       "      <td>1</td>\n",
       "      <td>0</td>\n",
       "      <td>0.2</td>\n",
       "      <td>0.042767</td>\n",
       "      <td>0.347833</td>\n",
       "      <td>27</td>\n",
       "      <td>15</td>\n",
       "      <td>27</td>\n",
       "      <td>4</td>\n",
       "      <td>7</td>\n",
       "      <td>6.136433</td>\n",
       "      <td>0</td>\n",
       "      <td>1</td>\n",
       "      <td>2</td>\n",
       "      <td>0.188982</td>\n",
       "      <td>0.250000</td>\n",
       "      <td>0.438982</td>\n",
       "      <td>0.047246</td>\n",
       "      <td>0.627964</td>\n",
       "      <td>0.688982</td>\n",
       "      <td>7.103008e-07</td>\n",
       "      <td>0.000001</td>\n",
       "      <td>0.000779</td>\n",
       "      <td>0.000840</td>\n",
       "      <td>1.557332e-15</td>\n",
       "      <td>1.096037e-14</td>\n",
       "      <td>5.180869e-15</td>\n",
       "      <td>1.296135e-14</td>\n",
       "      <td>-9.778448e-13</td>\n",
       "      <td>5.724610e-13</td>\n",
       "      <td>4.951883e-06</td>\n",
       "      <td>1.396834e-12</td>\n",
       "      <td>2.153249e-11</td>\n",
       "      <td>2.873183e-14</td>\n",
       "      <td>-2.275780e-11</td>\n",
       "      <td>1.007615e-12</td>\n",
       "      <td>2.517628e-06</td>\n",
       "      <td>1.394103e-10</td>\n",
       "      <td>2.961969e-11</td>\n",
       "      <td>2.022115e-13</td>\n",
       "      <td>-3.804979e-12</td>\n",
       "      <td>1.593011e-13</td>\n",
       "      <td>1.035016e-06</td>\n",
       "      <td>1.361574e-13</td>\n",
       "      <td>1.154623e-12</td>\n",
       "      <td>9.656662e-14</td>\n",
       "      <td>-8.742904e-12</td>\n",
       "      <td>7.467370e-12</td>\n",
       "      <td>1.256880e-05</td>\n",
       "      <td>3.636983e-12</td>\n",
       "      <td>3.948463e-12</td>\n",
       "      <td>2.415863e-13</td>\n",
       "      <td>324.0</td>\n",
       "      <td>405.0</td>\n",
       "      <td>1.246700e-11</td>\n",
       "      <td>1.300892e-11</td>\n",
       "    </tr>\n",
       "  </tbody>\n",
       "</table>\n",
       "</div>"
      ],
      "text/plain": [
       "   source_node  destination_node  ...     svd_dot_u     svd_dot_v\n",
       "0       848424            784690  ...  8.425267e-20  2.074808e-17\n",
       "1       483294           1255532  ...  1.352160e-17  1.188376e-17\n",
       "2       626190           1729265  ...  3.671980e-13  3.904885e-12\n",
       "3       947219            425228  ...  1.634044e-10  9.819784e-11\n",
       "4       991374            975044  ...  1.246700e-11  1.300892e-11\n",
       "\n",
       "[5 rows x 58 columns]"
      ]
     },
     "execution_count": 54,
     "metadata": {
      "tags": []
     },
     "output_type": "execute_result"
    }
   ],
   "source": [
    "test.head()"
   ]
  },
  {
   "cell_type": "code",
   "execution_count": 0,
   "metadata": {
    "colab": {},
    "colab_type": "code",
    "id": "EHE3USK9ywWR"
   },
   "outputs": [],
   "source": [
    "from xgboost import XGBClassifier as xgb\n",
    "from sklearn.model_selection import RandomizedSearchCV\n",
    "from datetime import datetime"
   ]
  },
  {
   "cell_type": "code",
   "execution_count": 0,
   "metadata": {
    "colab": {},
    "colab_type": "code",
    "id": "4_i8tQhy57wU"
   },
   "outputs": [],
   "source": [
    "train.drop(['source_node', 'destination_node','indicator_link'],axis=1,inplace=True)\n",
    "test.drop(['source_node', 'destination_node','indicator_link'],axis=1,inplace=True)"
   ]
  },
  {
   "cell_type": "code",
   "execution_count": 57,
   "metadata": {
    "colab": {
     "base_uri": "https://localhost:8080/",
     "height": 299
    },
    "colab_type": "code",
    "id": "JkxCXrLd0olD",
    "outputId": "cd7d4889-e663-4ca9-bad0-6b3a355746c2"
   },
   "outputs": [
    {
     "data": {
      "text/html": [
       "<div>\n",
       "<style scoped>\n",
       "    .dataframe tbody tr th:only-of-type {\n",
       "        vertical-align: middle;\n",
       "    }\n",
       "\n",
       "    .dataframe tbody tr th {\n",
       "        vertical-align: top;\n",
       "    }\n",
       "\n",
       "    .dataframe thead th {\n",
       "        text-align: right;\n",
       "    }\n",
       "</style>\n",
       "<table border=\"1\" class=\"dataframe\">\n",
       "  <thead>\n",
       "    <tr style=\"text-align: right;\">\n",
       "      <th></th>\n",
       "      <th>jaccard_followers</th>\n",
       "      <th>jaccard_followees</th>\n",
       "      <th>cosine_followers</th>\n",
       "      <th>cosine_followees</th>\n",
       "      <th>num_followers_s</th>\n",
       "      <th>num_followees_s</th>\n",
       "      <th>num_followees_d</th>\n",
       "      <th>inter_followers</th>\n",
       "      <th>inter_followees</th>\n",
       "      <th>adar_index</th>\n",
       "      <th>follows_back</th>\n",
       "      <th>same_comp</th>\n",
       "      <th>shortest_path</th>\n",
       "      <th>weight_in</th>\n",
       "      <th>weight_out</th>\n",
       "      <th>weight_f1</th>\n",
       "      <th>weight_f2</th>\n",
       "      <th>weight_f3</th>\n",
       "      <th>weight_f4</th>\n",
       "      <th>page_rank_s</th>\n",
       "      <th>page_rank_d</th>\n",
       "      <th>katz_s</th>\n",
       "      <th>katz_d</th>\n",
       "      <th>hubs_s</th>\n",
       "      <th>hubs_d</th>\n",
       "      <th>authorities_s</th>\n",
       "      <th>authorities_d</th>\n",
       "      <th>svd_u_s_1</th>\n",
       "      <th>svd_u_s_2</th>\n",
       "      <th>svd_u_s_3</th>\n",
       "      <th>svd_u_s_4</th>\n",
       "      <th>svd_u_s_5</th>\n",
       "      <th>svd_u_s_6</th>\n",
       "      <th>svd_u_d_1</th>\n",
       "      <th>svd_u_d_2</th>\n",
       "      <th>svd_u_d_3</th>\n",
       "      <th>svd_u_d_4</th>\n",
       "      <th>svd_u_d_5</th>\n",
       "      <th>svd_u_d_6</th>\n",
       "      <th>svd_v_s_1</th>\n",
       "      <th>svd_v_s_2</th>\n",
       "      <th>svd_v_s_3</th>\n",
       "      <th>svd_v_s_4</th>\n",
       "      <th>svd_v_s_5</th>\n",
       "      <th>svd_v_s_6</th>\n",
       "      <th>svd_v_d_1</th>\n",
       "      <th>svd_v_d_2</th>\n",
       "      <th>svd_v_d_3</th>\n",
       "      <th>svd_v_d_4</th>\n",
       "      <th>svd_v_d_5</th>\n",
       "      <th>svd_v_d_6</th>\n",
       "      <th>follower_preferential</th>\n",
       "      <th>followee_preferential</th>\n",
       "      <th>svd_dot_u</th>\n",
       "      <th>svd_dot_v</th>\n",
       "    </tr>\n",
       "  </thead>\n",
       "  <tbody>\n",
       "    <tr>\n",
       "      <th>0</th>\n",
       "      <td>0</td>\n",
       "      <td>0.000000</td>\n",
       "      <td>0.000000</td>\n",
       "      <td>0.000000</td>\n",
       "      <td>6</td>\n",
       "      <td>15</td>\n",
       "      <td>8</td>\n",
       "      <td>0</td>\n",
       "      <td>0</td>\n",
       "      <td>0.000000</td>\n",
       "      <td>0</td>\n",
       "      <td>1</td>\n",
       "      <td>4</td>\n",
       "      <td>0.377964</td>\n",
       "      <td>0.250000</td>\n",
       "      <td>0.627964</td>\n",
       "      <td>0.094491</td>\n",
       "      <td>1.005929</td>\n",
       "      <td>0.877964</td>\n",
       "      <td>2.045290e-06</td>\n",
       "      <td>3.459963e-07</td>\n",
       "      <td>0.000773</td>\n",
       "      <td>0.000756</td>\n",
       "      <td>1.943132e-13</td>\n",
       "      <td>1.941103e-13</td>\n",
       "      <td>9.226339e-16</td>\n",
       "      <td>2.231877e-15</td>\n",
       "      <td>-1.666226e-13</td>\n",
       "      <td>4.613397e-13</td>\n",
       "      <td>1.043044e-05</td>\n",
       "      <td>6.676960e-13</td>\n",
       "      <td>2.451081e-13</td>\n",
       "      <td>3.584580e-12</td>\n",
       "      <td>-2.038017e-11</td>\n",
       "      <td>5.397495e-13</td>\n",
       "      <td>1.068946e-06</td>\n",
       "      <td>1.192357e-12</td>\n",
       "      <td>2.279485e-12</td>\n",
       "      <td>3.580837e-12</td>\n",
       "      <td>-7.216133e-13</td>\n",
       "      <td>3.925975e-13</td>\n",
       "      <td>1.983691e-06</td>\n",
       "      <td>1.545075e-13</td>\n",
       "      <td>8.108434e-13</td>\n",
       "      <td>1.719702e-14</td>\n",
       "      <td>-1.355368e-12</td>\n",
       "      <td>4.675307e-13</td>\n",
       "      <td>1.128591e-06</td>\n",
       "      <td>6.616550e-14</td>\n",
       "      <td>9.771077e-13</td>\n",
       "      <td>4.159752e-14</td>\n",
       "      <td>66.0</td>\n",
       "      <td>120.0</td>\n",
       "      <td>1.114958e-11</td>\n",
       "      <td>2.238775e-12</td>\n",
       "    </tr>\n",
       "    <tr>\n",
       "      <th>1</th>\n",
       "      <td>0</td>\n",
       "      <td>0.187135</td>\n",
       "      <td>0.028382</td>\n",
       "      <td>0.343828</td>\n",
       "      <td>94</td>\n",
       "      <td>61</td>\n",
       "      <td>142</td>\n",
       "      <td>11</td>\n",
       "      <td>32</td>\n",
       "      <td>16.362912</td>\n",
       "      <td>0</td>\n",
       "      <td>1</td>\n",
       "      <td>2</td>\n",
       "      <td>0.102598</td>\n",
       "      <td>0.127000</td>\n",
       "      <td>0.229598</td>\n",
       "      <td>0.013030</td>\n",
       "      <td>0.332196</td>\n",
       "      <td>0.356598</td>\n",
       "      <td>2.353458e-07</td>\n",
       "      <td>6.427660e-07</td>\n",
       "      <td>0.000845</td>\n",
       "      <td>0.001317</td>\n",
       "      <td>3.906648e-11</td>\n",
       "      <td>9.424102e-11</td>\n",
       "      <td>1.208074e-11</td>\n",
       "      <td>1.273080e-10</td>\n",
       "      <td>7.051088e-13</td>\n",
       "      <td>-8.250564e-11</td>\n",
       "      <td>-1.717702e-10</td>\n",
       "      <td>3.705016e-02</td>\n",
       "      <td>1.032392e-11</td>\n",
       "      <td>7.207497e-10</td>\n",
       "      <td>1.644399e-12</td>\n",
       "      <td>-2.047752e-10</td>\n",
       "      <td>-3.943936e-10</td>\n",
       "      <td>8.617541e-02</td>\n",
       "      <td>2.399540e-11</td>\n",
       "      <td>1.738682e-09</td>\n",
       "      <td>2.685878e-13</td>\n",
       "      <td>-3.316849e-11</td>\n",
       "      <td>-6.236048e-11</td>\n",
       "      <td>1.345726e-02</td>\n",
       "      <td>3.703479e-12</td>\n",
       "      <td>2.251737e-10</td>\n",
       "      <td>1.245101e-12</td>\n",
       "      <td>-1.636948e-10</td>\n",
       "      <td>-3.112650e-10</td>\n",
       "      <td>6.738902e-02</td>\n",
       "      <td>2.607801e-11</td>\n",
       "      <td>2.372904e-09</td>\n",
       "      <td>1598.0</td>\n",
       "      <td>8662.0</td>\n",
       "      <td>3.192812e-03</td>\n",
       "      <td>9.068719e-04</td>\n",
       "    </tr>\n",
       "    <tr>\n",
       "      <th>2</th>\n",
       "      <td>0</td>\n",
       "      <td>0.369565</td>\n",
       "      <td>0.156957</td>\n",
       "      <td>0.566038</td>\n",
       "      <td>28</td>\n",
       "      <td>41</td>\n",
       "      <td>22</td>\n",
       "      <td>26</td>\n",
       "      <td>17</td>\n",
       "      <td>10.991826</td>\n",
       "      <td>0</td>\n",
       "      <td>1</td>\n",
       "      <td>2</td>\n",
       "      <td>0.185695</td>\n",
       "      <td>0.154303</td>\n",
       "      <td>0.339999</td>\n",
       "      <td>0.028653</td>\n",
       "      <td>0.525694</td>\n",
       "      <td>0.494302</td>\n",
       "      <td>6.211019e-07</td>\n",
       "      <td>5.179801e-07</td>\n",
       "      <td>0.000885</td>\n",
       "      <td>0.000855</td>\n",
       "      <td>7.730764e-114</td>\n",
       "      <td>4.067322e-114</td>\n",
       "      <td>2.681298e-113</td>\n",
       "      <td>2.199205e-113</td>\n",
       "      <td>-4.900734e-18</td>\n",
       "      <td>1.096831e-18</td>\n",
       "      <td>-6.816555e-19</td>\n",
       "      <td>-2.226453e-18</td>\n",
       "      <td>6.710556e-19</td>\n",
       "      <td>-8.161336e-19</td>\n",
       "      <td>-2.606312e-18</td>\n",
       "      <td>6.392474e-19</td>\n",
       "      <td>-4.245830e-19</td>\n",
       "      <td>-1.315747e-18</td>\n",
       "      <td>3.849627e-19</td>\n",
       "      <td>-1.131971e-18</td>\n",
       "      <td>-1.510265e-18</td>\n",
       "      <td>1.454979e-19</td>\n",
       "      <td>-2.380564e-19</td>\n",
       "      <td>-7.021227e-19</td>\n",
       "      <td>1.940403e-19</td>\n",
       "      <td>-3.365389e-19</td>\n",
       "      <td>-1.238370e-18</td>\n",
       "      <td>1.438175e-19</td>\n",
       "      <td>-1.852863e-19</td>\n",
       "      <td>-5.901864e-19</td>\n",
       "      <td>1.629341e-19</td>\n",
       "      <td>-2.572452e-19</td>\n",
       "      <td>980.0</td>\n",
       "      <td>902.0</td>\n",
       "      <td>1.787503e-35</td>\n",
       "      <td>2.467873e-36</td>\n",
       "    </tr>\n",
       "    <tr>\n",
       "      <th>3</th>\n",
       "      <td>0</td>\n",
       "      <td>0.000000</td>\n",
       "      <td>0.000000</td>\n",
       "      <td>0.000000</td>\n",
       "      <td>11</td>\n",
       "      <td>5</td>\n",
       "      <td>7</td>\n",
       "      <td>0</td>\n",
       "      <td>0</td>\n",
       "      <td>0.000000</td>\n",
       "      <td>0</td>\n",
       "      <td>1</td>\n",
       "      <td>6</td>\n",
       "      <td>0.288675</td>\n",
       "      <td>0.408248</td>\n",
       "      <td>0.696923</td>\n",
       "      <td>0.117851</td>\n",
       "      <td>0.985599</td>\n",
       "      <td>1.105172</td>\n",
       "      <td>2.998153e-07</td>\n",
       "      <td>1.704245e-06</td>\n",
       "      <td>0.000739</td>\n",
       "      <td>0.000773</td>\n",
       "      <td>5.443738e-17</td>\n",
       "      <td>4.139999e-16</td>\n",
       "      <td>2.413250e-14</td>\n",
       "      <td>6.688064e-15</td>\n",
       "      <td>-9.965436e-12</td>\n",
       "      <td>4.077137e-13</td>\n",
       "      <td>5.083778e-10</td>\n",
       "      <td>1.985267e-14</td>\n",
       "      <td>2.471968e-12</td>\n",
       "      <td>1.004354e-15</td>\n",
       "      <td>-2.629029e-13</td>\n",
       "      <td>1.428940e-11</td>\n",
       "      <td>9.146784e-11</td>\n",
       "      <td>8.590132e-12</td>\n",
       "      <td>2.406658e-10</td>\n",
       "      <td>7.638106e-15</td>\n",
       "      <td>-2.170899e-13</td>\n",
       "      <td>5.206150e-13</td>\n",
       "      <td>6.058498e-11</td>\n",
       "      <td>1.514614e-11</td>\n",
       "      <td>1.513483e-12</td>\n",
       "      <td>4.498061e-13</td>\n",
       "      <td>-9.818087e-10</td>\n",
       "      <td>3.454672e-11</td>\n",
       "      <td>5.213635e-08</td>\n",
       "      <td>9.595823e-13</td>\n",
       "      <td>3.047045e-10</td>\n",
       "      <td>1.246592e-13</td>\n",
       "      <td>22.0</td>\n",
       "      <td>35.0</td>\n",
       "      <td>4.710376e-20</td>\n",
       "      <td>3.159386e-18</td>\n",
       "    </tr>\n",
       "    <tr>\n",
       "      <th>4</th>\n",
       "      <td>0</td>\n",
       "      <td>0.000000</td>\n",
       "      <td>0.000000</td>\n",
       "      <td>0.000000</td>\n",
       "      <td>1</td>\n",
       "      <td>11</td>\n",
       "      <td>3</td>\n",
       "      <td>0</td>\n",
       "      <td>0</td>\n",
       "      <td>0.000000</td>\n",
       "      <td>0</td>\n",
       "      <td>0</td>\n",
       "      <td>-1</td>\n",
       "      <td>1.000000</td>\n",
       "      <td>0.301511</td>\n",
       "      <td>1.301511</td>\n",
       "      <td>0.301511</td>\n",
       "      <td>2.301511</td>\n",
       "      <td>1.603023</td>\n",
       "      <td>4.349180e-07</td>\n",
       "      <td>2.089590e-07</td>\n",
       "      <td>0.000751</td>\n",
       "      <td>0.000735</td>\n",
       "      <td>3.887821e-16</td>\n",
       "      <td>4.721269e-16</td>\n",
       "      <td>7.552255e-16</td>\n",
       "      <td>2.734009e-18</td>\n",
       "      <td>-3.408943e-13</td>\n",
       "      <td>1.125207e-13</td>\n",
       "      <td>3.190883e-07</td>\n",
       "      <td>8.550846e-14</td>\n",
       "      <td>1.405351e-13</td>\n",
       "      <td>7.172313e-15</td>\n",
       "      <td>-2.550169e-13</td>\n",
       "      <td>2.424636e-13</td>\n",
       "      <td>2.436301e-07</td>\n",
       "      <td>3.679960e-14</td>\n",
       "      <td>1.348520e-13</td>\n",
       "      <td>8.710393e-15</td>\n",
       "      <td>-4.795514e-13</td>\n",
       "      <td>1.521297e-13</td>\n",
       "      <td>1.197283e-07</td>\n",
       "      <td>1.999809e-14</td>\n",
       "      <td>3.360247e-13</td>\n",
       "      <td>1.407670e-14</td>\n",
       "      <td>0.000000e+00</td>\n",
       "      <td>0.000000e+00</td>\n",
       "      <td>0.000000e+00</td>\n",
       "      <td>0.000000e+00</td>\n",
       "      <td>0.000000e+00</td>\n",
       "      <td>0.000000e+00</td>\n",
       "      <td>5.0</td>\n",
       "      <td>33.0</td>\n",
       "      <td>7.773952e-14</td>\n",
       "      <td>0.000000e+00</td>\n",
       "    </tr>\n",
       "  </tbody>\n",
       "</table>\n",
       "</div>"
      ],
      "text/plain": [
       "   jaccard_followers  jaccard_followees  ...     svd_dot_u     svd_dot_v\n",
       "0                  0           0.000000  ...  1.114958e-11  2.238775e-12\n",
       "1                  0           0.187135  ...  3.192812e-03  9.068719e-04\n",
       "2                  0           0.369565  ...  1.787503e-35  2.467873e-36\n",
       "3                  0           0.000000  ...  4.710376e-20  3.159386e-18\n",
       "4                  0           0.000000  ...  7.773952e-14  0.000000e+00\n",
       "\n",
       "[5 rows x 55 columns]"
      ]
     },
     "execution_count": 57,
     "metadata": {
      "tags": []
     },
     "output_type": "execute_result"
    }
   ],
   "source": [
    "train.head()"
   ]
  },
  {
   "cell_type": "code",
   "execution_count": 58,
   "metadata": {
    "colab": {
     "base_uri": "https://localhost:8080/",
     "height": 168
    },
    "colab_type": "code",
    "id": "KQ2Fw9sc908L",
    "outputId": "e6806a72-870f-45c1-d6d8-f2f615f84cb4"
   },
   "outputs": [
    {
     "name": "stdout",
     "output_type": "stream",
     "text": [
      "CPU times: user 18 µs, sys: 0 ns, total: 18 µs\n",
      "Wall time: 20 µs\n",
      "XGBClassifier(base_score=0.5, booster='gbtree', colsample_bylevel=1,\n",
      "              colsample_bynode=1, colsample_bytree=1, gamma=0, learning_rate=1,\n",
      "              max_delta_step=0, max_depth=5, min_child_weight=1, missing=None,\n",
      "              n_estimators=50, n_jobs=-1, nthread=None,\n",
      "              objective='reg:squarederror', random_state=0, reg_alpha=0,\n",
      "              reg_lambda=1, scale_pos_weight=1, seed=None, silent=None,\n",
      "              subsample=1, verbosity=1)\n"
     ]
    }
   ],
   "source": [
    "%time\n",
    "import xgboost as xgb\n",
    "from sklearn.model_selection import RandomizedSearchCV\n",
    "\n",
    "tuned_parameters={'n_estimators':[1,5,10,50,100,200,500,800,1000],'max_depth':[1,4,5,7,8,10,50],'learning_rate': [0.001,0.01,1]}\n",
    "model=RandomizedSearchCV(xgb.XGBClassifier(objective='reg:squarederror',n_jobs=-1),tuned_parameters,scoring='f1',cv=5)\n",
    "model.fit(train,Y_train)\n",
    "print(model.best_estimator_)"
   ]
  },
  {
   "cell_type": "code",
   "execution_count": 62,
   "metadata": {
    "colab": {
     "base_uri": "https://localhost:8080/",
     "height": 67
    },
    "colab_type": "code",
    "id": "IVTt_Vzu_1LE",
    "outputId": "8a018636-5a0e-47fa-c0b5-fd8e215073f0"
   },
   "outputs": [
    {
     "name": "stdout",
     "output_type": "stream",
     "text": [
      "\n",
      "Train Score: 0.993826728165928\n",
      "Test Score: 0.9113191781115421\n"
     ]
    }
   ],
   "source": [
    "import xgboost as xgb\n",
    "clf = xgb.XGBClassifier(max_depth=5,n_estimators=50,learning_rate = 1,n_jobs=-1)\n",
    "clf.fit(train,Y_train)\n",
    "predict_ytr = clf.predict(train)\n",
    "predict_yte = clf.predict(test)\n",
    "print(f'\\nTrain Score: {f1_score(Y_train,predict_ytr)}')\n",
    "print(f'Test Score: {f1_score(Y_test,predict_yte)}')\n"
   ]
  },
  {
   "cell_type": "code",
   "execution_count": 66,
   "metadata": {
    "colab": {
     "base_uri": "https://localhost:8080/",
     "height": 332
    },
    "colab_type": "code",
    "id": "RdixtOuBsK9H",
    "outputId": "6f3fb5c7-436b-46b1-de55-678feb3dee48"
   },
   "outputs": [
    {
     "name": "stdout",
     "output_type": "stream",
     "text": [
      "Train confusion_matrix\n"
     ]
    },
    {
     "data": {
      "image/png": "[encoded data removed]",
      "text/plain": [
       "<Figure size 1440x288 with 6 Axes>"
      ]
     },
     "metadata": {
      "tags": []
     },
     "output_type": "display_data"
    }
   ],
   "source": [
    "print('Train confusion_matrix')\n",
    "plot_confusion_matrix(Y_train,predict_ytr)"
   ]
  },
  {
   "cell_type": "code",
   "execution_count": 67,
   "metadata": {
    "colab": {
     "base_uri": "https://localhost:8080/",
     "height": 332
    },
    "colab_type": "code",
    "id": "KPuzew3D0ISL",
    "outputId": "3a7bac67-e04d-4d0d-b241-62b8e83f0cd0"
   },
   "outputs": [
    {
     "name": "stdout",
     "output_type": "stream",
     "text": [
      "Test confusion_matrix\n"
     ]
    },
    {
     "data": {
      "image/png": "[encoded data removed]",
      "text/plain": [
       "<Figure size 1440x288 with 6 Axes>"
      ]
     },
     "metadata": {
      "tags": []
     },
     "output_type": "display_data"
    }
   ],
   "source": [
    "print('Test confusion_matrix')\n",
    "plot_confusion_matrix(Y_test,predict_yte)"
   ]
  },
  {
   "cell_type": "markdown",
   "metadata": {},
   "source": [
    "## Conclusions:"
   ]
  },
  {
   "cell_type": "markdown",
   "metadata": {},
   "source": [
    "1] After applying features like Preferential Attachment and SVD DOT we got our test F1 score to be  0.911.<br>\n",
    "2] Before applying these features we got f1 score = 0.924 which was better. <br>"
   ]
  },
  {
   "cell_type": "code",
   "execution_count": null,
   "metadata": {},
   "outputs": [],
   "source": []
  }
 ],
 "metadata": {
  "accelerator": "GPU",
  "colab": {
   "collapsed_sections": [],
   "name": "FB_Models.ipynb",
   "provenance": [],
   "toc_visible": true
  },
  "kernelspec": {
   "display_name": "Python 3",
   "language": "python",
   "name": "python3"
  },
  "language_info": {
   "codemirror_mode": {
    "name": "ipython",
    "version": 3
   },
   "file_extension": ".py",
   "mimetype": "text/x-python",
   "name": "python",
   "nbconvert_exporter": "python",
   "pygments_lexer": "ipython3",
   "version": "3.6.5"
  }
 },
 "nbformat": 4,
 "nbformat_minor": 1
}
